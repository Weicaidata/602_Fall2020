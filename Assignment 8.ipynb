{
 "cells": [
  {
   "cell_type": "code",
   "execution_count": 15,
   "metadata": {},
   "outputs": [],
   "source": [
    "import pandas as pd\n",
    "import matplotlib.pyplot as plt\n",
    "import numpy as np\n",
    "from sklearn.neighbors import KNeighborsClassifier\n",
    "from sklearn.model_selection import train_test_split\n",
    "import mysql.connector\n",
    "import pymysql\n",
    "import plotly.express as px\n",
    "\n"
   ]
  },
  {
   "cell_type": "code",
   "execution_count": 8,
   "metadata": {},
   "outputs": [
    {
     "ename": "NameError",
     "evalue": "name 'mysql' is not defined",
     "output_type": "error",
     "traceback": [
      "\u001b[1;31m---------------------------------------------------------------------------\u001b[0m",
      "\u001b[1;31mNameError\u001b[0m                                 Traceback (most recent call last)",
      "\u001b[1;32m<ipython-input-8-c80adbb9a51b>\u001b[0m in \u001b[0;36m<module>\u001b[1;34m\u001b[0m\n\u001b[1;32m----> 1\u001b[1;33m mydb = mysql.connector.connect(\n\u001b[0m\u001b[0;32m      2\u001b[0m   \u001b[0mhost\u001b[0m\u001b[1;33m=\u001b[0m\u001b[1;34m\"localhost\"\u001b[0m\u001b[1;33m,\u001b[0m\u001b[1;33m\u001b[0m\u001b[1;33m\u001b[0m\u001b[0m\n\u001b[0;32m      3\u001b[0m   \u001b[0muser\u001b[0m\u001b[1;33m=\u001b[0m\u001b[1;34m\"root\"\u001b[0m\u001b[1;33m,\u001b[0m\u001b[1;33m\u001b[0m\u001b[1;33m\u001b[0m\u001b[0m\n\u001b[0;32m      4\u001b[0m   \u001b[0mpasswd\u001b[0m\u001b[1;33m=\u001b[0m\u001b[1;34m\"123456\"\u001b[0m\u001b[1;33m\u001b[0m\u001b[1;33m\u001b[0m\u001b[0m\n\u001b[0;32m      5\u001b[0m )\n",
      "\u001b[1;31mNameError\u001b[0m: name 'mysql' is not defined"
     ]
    }
   ],
   "source": [
    "mydb = mysql.connector.connect(\n",
    "  host=\"localhost\",\n",
    "  user=\"root\",\n",
    "  passwd=\"123456\"\n",
    ")"
   ]
  },
  {
   "cell_type": "markdown",
   "metadata": {},
   "source": [
    "## Analyze the multiple measurements in taxonomic problems of Iris dataset."
   ]
  },
  {
   "cell_type": "code",
   "execution_count": 9,
   "metadata": {},
   "outputs": [
    {
     "ename": "NameError",
     "evalue": "name 'pymysql' is not defined",
     "output_type": "error",
     "traceback": [
      "\u001b[1;31m---------------------------------------------------------------------------\u001b[0m",
      "\u001b[1;31mNameError\u001b[0m                                 Traceback (most recent call last)",
      "\u001b[1;32m<ipython-input-9-ead469bd3d30>\u001b[0m in \u001b[0;36m<module>\u001b[1;34m\u001b[0m\n\u001b[1;32m----> 1\u001b[1;33m connection = pymysql.connect(host='localhost',\n\u001b[0m\u001b[0;32m      2\u001b[0m                              \u001b[0muser\u001b[0m\u001b[1;33m=\u001b[0m\u001b[1;34m'root'\u001b[0m\u001b[1;33m,\u001b[0m\u001b[1;33m\u001b[0m\u001b[1;33m\u001b[0m\u001b[0m\n\u001b[0;32m      3\u001b[0m                              \u001b[0mpassword\u001b[0m\u001b[1;33m=\u001b[0m\u001b[1;34m'123456'\u001b[0m\u001b[1;33m,\u001b[0m\u001b[1;33m\u001b[0m\u001b[1;33m\u001b[0m\u001b[0m\n\u001b[0;32m      4\u001b[0m                              db='iris')\n\u001b[0;32m      5\u001b[0m \u001b[1;33m\u001b[0m\u001b[0m\n",
      "\u001b[1;31mNameError\u001b[0m: name 'pymysql' is not defined"
     ]
    }
   ],
   "source": [
    "connection = pymysql.connect(host='localhost',\n",
    "                             user='root',\n",
    "                             password='123456',\n",
    "                             db='iris')\n",
    "\n",
    "\n",
    "cursor=connection.cursor()\n",
    "\n",
    "cursor.execute('SELECT * FROM iris.iris')\n",
    "\n",
    "for row in cursor:\n",
    "    print(row)"
   ]
  },
  {
   "cell_type": "markdown",
   "metadata": {},
   "source": [
    "### Data Exploration:"
   ]
  },
  {
   "cell_type": "code",
   "execution_count": 16,
   "metadata": {},
   "outputs": [
    {
     "ename": "NameError",
     "evalue": "name 'cursor' is not defined",
     "output_type": "error",
     "traceback": [
      "\u001b[1;31m---------------------------------------------------------------------------\u001b[0m",
      "\u001b[1;31mNameError\u001b[0m                                 Traceback (most recent call last)",
      "\u001b[1;32m<ipython-input-16-b592564e8097>\u001b[0m in \u001b[0;36m<module>\u001b[1;34m\u001b[0m\n\u001b[1;32m----> 1\u001b[1;33m \u001b[0msql01\u001b[0m \u001b[1;33m=\u001b[0m \u001b[0mcursor\u001b[0m\u001b[1;33m.\u001b[0m\u001b[0mexecute\u001b[0m\u001b[1;33m(\u001b[0m\u001b[1;34m'SELECT AVG(SepalLengthCm) FROM iris.iris'\u001b[0m\u001b[1;33m)\u001b[0m\u001b[1;33m\u001b[0m\u001b[1;33m\u001b[0m\u001b[0m\n\u001b[0m\u001b[0;32m      2\u001b[0m \u001b[1;32mfor\u001b[0m \u001b[0mrow\u001b[0m \u001b[1;32min\u001b[0m \u001b[0mcursor\u001b[0m\u001b[1;33m:\u001b[0m\u001b[1;33m\u001b[0m\u001b[1;33m\u001b[0m\u001b[0m\n\u001b[0;32m      3\u001b[0m     \u001b[0mprint\u001b[0m\u001b[1;33m(\u001b[0m\u001b[0mrow\u001b[0m\u001b[1;33m)\u001b[0m\u001b[1;33m\u001b[0m\u001b[1;33m\u001b[0m\u001b[0m\n\u001b[0;32m      4\u001b[0m \u001b[1;33m\u001b[0m\u001b[0m\n\u001b[0;32m      5\u001b[0m \u001b[0msql02\u001b[0m \u001b[1;33m=\u001b[0m \u001b[0mcursor\u001b[0m\u001b[1;33m.\u001b[0m\u001b[0mexecute\u001b[0m\u001b[1;33m(\u001b[0m\u001b[1;34m'SELECT Sum(SepalLengthCm) FROM iris.iris'\u001b[0m\u001b[1;33m)\u001b[0m\u001b[1;33m\u001b[0m\u001b[1;33m\u001b[0m\u001b[0m\n",
      "\u001b[1;31mNameError\u001b[0m: name 'cursor' is not defined"
     ]
    }
   ],
   "source": [
    "sql01 = cursor.execute('SELECT AVG(SepalLengthCm) FROM iris.iris')\n",
    "for row in cursor:\n",
    "    print(row)\n",
    "\n",
    "sql02 = cursor.execute('SELECT Sum(SepalLengthCm) FROM iris.iris')\n",
    "for row in cursor:\n",
    "    print(row)\n",
    "\n",
    "sql03 = cursor.execute('SELECT AVG(PetalLengthCm) FROM iris.iris')\n",
    "for row in cursor:\n",
    "    print(row)\n",
    "\n",
    "sql04 = cursor.execute('SELECT Sum(PetalLengthCm) FROM iris.iris')\n",
    "for row in cursor:\n",
    "    print(row)"
   ]
  },
  {
   "cell_type": "markdown",
   "metadata": {},
   "source": [
    "### Data Wrangling"
   ]
  },
  {
   "cell_type": "code",
   "execution_count": 19,
   "metadata": {},
   "outputs": [
    {
     "name": "stdout",
     "output_type": "stream",
     "text": [
      "     sepal_length  sepal_width  PetalLengthCm  PetalWidthCm         SPECIES\n",
      "0             5.1          3.5            1.4           0.2     Iris-setosa\n",
      "1             4.9          3.0            1.4           0.2     Iris-setosa\n",
      "2             4.7          3.2            1.3           0.2     Iris-setosa\n",
      "3             4.6          3.1            1.5           0.2     Iris-setosa\n",
      "4             5.0          3.6            1.4           0.2     Iris-setosa\n",
      "5             5.4          3.9            1.7           0.4     Iris-setosa\n",
      "6             4.6          3.4            1.4           0.3     Iris-setosa\n",
      "7             5.0          3.4            1.5           0.2     Iris-setosa\n",
      "8             4.4          2.9            1.4           0.2     Iris-setosa\n",
      "9             4.9          3.1            1.5           0.1     Iris-setosa\n",
      "10            5.4          3.7            1.5           0.2     Iris-setosa\n",
      "11            4.8          3.4            1.6           0.2     Iris-setosa\n",
      "12            4.8          3.0            1.4           0.1     Iris-setosa\n",
      "13            4.3          3.0            1.1           0.1     Iris-setosa\n",
      "14            5.8          4.0            1.2           0.2     Iris-setosa\n",
      "15            5.7          4.4            1.5           0.4     Iris-setosa\n",
      "16            5.4          3.9            1.3           0.4     Iris-setosa\n",
      "17            5.1          3.5            1.4           0.3     Iris-setosa\n",
      "18            5.7          3.8            1.7           0.3     Iris-setosa\n",
      "19            5.1          3.8            1.5           0.3     Iris-setosa\n",
      "20            5.4          3.4            1.7           0.2     Iris-setosa\n",
      "21            5.1          3.7            1.5           0.4     Iris-setosa\n",
      "22            4.6          3.6            1.0           0.2     Iris-setosa\n",
      "23            5.1          3.3            1.7           0.5     Iris-setosa\n",
      "24            4.8          3.4            1.9           0.2     Iris-setosa\n",
      "25            5.0          3.0            1.6           0.2     Iris-setosa\n",
      "26            5.0          3.4            1.6           0.4     Iris-setosa\n",
      "27            5.2          3.5            1.5           0.2     Iris-setosa\n",
      "28            5.2          3.4            1.4           0.2     Iris-setosa\n",
      "29            4.7          3.2            1.6           0.2     Iris-setosa\n",
      "..            ...          ...            ...           ...             ...\n",
      "120           6.9          3.2            5.7           2.3  Iris-virginica\n",
      "121           5.6          2.8            4.9           2.0  Iris-virginica\n",
      "122           7.7          2.8            6.7           2.0  Iris-virginica\n",
      "123           6.3          2.7            4.9           1.8  Iris-virginica\n",
      "124           6.7          3.3            5.7           2.1  Iris-virginica\n",
      "125           7.2          3.2            6.0           1.8  Iris-virginica\n",
      "126           6.2          2.8            4.8           1.8  Iris-virginica\n",
      "127           6.1          3.0            4.9           1.8  Iris-virginica\n",
      "128           6.4          2.8            5.6           2.1  Iris-virginica\n",
      "129           7.2          3.0            5.8           1.6  Iris-virginica\n",
      "130           7.4          2.8            6.1           1.9  Iris-virginica\n",
      "131           7.9          3.8            6.4           2.0  Iris-virginica\n",
      "132           6.4          2.8            5.6           2.2  Iris-virginica\n",
      "133           6.3          2.8            5.1           1.5  Iris-virginica\n",
      "134           6.1          2.6            5.6           1.4  Iris-virginica\n",
      "135           7.7          3.0            6.1           2.3  Iris-virginica\n",
      "136           6.3          3.4            5.6           2.4  Iris-virginica\n",
      "137           6.4          3.1            5.5           1.8  Iris-virginica\n",
      "138           6.0          3.0            4.8           1.8  Iris-virginica\n",
      "139           6.9          3.1            5.4           2.1  Iris-virginica\n",
      "140           6.7          3.1            5.6           2.4  Iris-virginica\n",
      "141           6.9          3.1            5.1           2.3  Iris-virginica\n",
      "142           5.8          2.7            5.1           1.9  Iris-virginica\n",
      "143           6.8          3.2            5.9           2.3  Iris-virginica\n",
      "144           6.7          3.3            5.7           2.5  Iris-virginica\n",
      "145           6.7          3.0            5.2           2.3  Iris-virginica\n",
      "146           6.3          2.5            5.0           1.9  Iris-virginica\n",
      "147           6.5          3.0            5.2           2.0  Iris-virginica\n",
      "148           6.2          3.4            5.4           2.3  Iris-virginica\n",
      "149           5.9          3.0            5.1           1.8  Iris-virginica\n",
      "\n",
      "[150 rows x 5 columns]\n"
     ]
    }
   ],
   "source": [
    "df = pd.read_csv('https://raw.githubusercontent.com/Weicaidata/602_Fall2020/master/Iris.csv')\n",
    "\n",
    "df = df.drop('Id', axis=1)\n",
    "\n",
    "df.rename(columns = {'SepalWidthCm':'sepal_width', 'SepalLengthCm':'sepal_length', 'Species':'SPECIES'}, inplace = True)\n",
    "\n",
    "print (df)"
   ]
  },
  {
   "cell_type": "markdown",
   "metadata": {},
   "source": [
    "### Data Visualizations:"
   ]
  },
  {
   "cell_type": "code",
   "execution_count": 21,
   "metadata": {},
   "outputs": [
    {
     "data": {
      "image/png": "[encoded data removed]",
      "text/plain": [
       "<Figure size 432x288 with 4 Axes>"
      ]
     },
     "metadata": {
      "needs_background": "light"
     },
     "output_type": "display_data"
    },
    {
     "data": {
      "image/png": "[encoded data removed]",
      "text/plain": [
       "<Figure size 432x288 with 4 Axes>"
      ]
     },
     "metadata": {
      "needs_background": "light"
     },
     "output_type": "display_data"
    }
   ],
   "source": [
    "df.plot(kind='box', subplots=True, layout=(2,2), sharex=False, sharey=False)\n",
    "\n",
    "plt.show()\n",
    "\n",
    "df.hist()\n",
    "\n",
    "plt.show()"
   ]
  },
  {
   "cell_type": "markdown",
   "metadata": {},
   "source": [
    "From the graph, we can see two of the input variables have a normal distribution.\n"
   ]
  },
  {
   "cell_type": "markdown",
   "metadata": {},
   "source": []
  },
  {
   "cell_type": "markdown",
   "metadata": {},
   "source": [
    "###  Conclusion: we can see Blue points (Iris-setosa) can be easily separated from red (Irir-versicolor) and green (Iris-virginica) by using PetalLength and PetalWidth."
   ]
  },
  {
   "cell_type": "markdown",
   "metadata": {},
   "source": [
    "### Machine Learning "
   ]
  },
  {
   "cell_type": "code",
   "execution_count": 23,
   "metadata": {},
   "outputs": [
    {
     "name": "stdout",
     "output_type": "stream",
     "text": [
      "0.95\n"
     ]
    }
   ],
   "source": [
    "array = df.values\n",
    "\n",
    "X = array[:,0:4]\n",
    "\n",
    "y = array[:,4]\n",
    "\n",
    "X_train, X_test, y_train, y_test = train_test_split(X, y, test_size = 0.4, stratify = y)\n",
    "\n",
    "knn = KNeighborsClassifier(n_neighbors = 6)\n",
    "\n",
    "knn.fit(X_train, y_train)\n",
    "\n",
    "print(knn.score(X_test, y_test))"
   ]
  },
  {
   "cell_type": "markdown",
   "metadata": {},
   "source": [
    "### The accuracy is 95%"
   ]
  }
 ],
 "metadata": {
  "kernelspec": {
   "display_name": "Python 3",
   "language": "python",
   "name": "python3"
  },
  "language_info": {
   "codemirror_mode": {
    "name": "ipython",
    "version": 3
   },
   "file_extension": ".py",
   "mimetype": "text/x-python",
   "name": "python",
   "nbconvert_exporter": "python",
   "pygments_lexer": "ipython3",
   "version": "3.7.3"
  }
 },
 "nbformat": 4,
 "nbformat_minor": 2
}
